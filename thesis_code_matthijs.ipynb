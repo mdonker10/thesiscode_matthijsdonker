{
  "cells": [
    {
      "cell_type": "code",
      "execution_count": 92,
      "id": "GnUuMLYROIHY",
      "metadata": {
        "id": "GnUuMLYROIHY"
      },
      "outputs": [],
      "source": [
        "import pandas as pd\n",
        "import glob\n",
        "import os\n",
        "import numpy as np\n",
        "import matplotlib.pyplot as plt\n",
        "import networkx as nx\n",
        "from sklearn.model_selection import train_test_split\n",
        "from sklearn.metrics import confusion_matrix\n",
        "from node2vec import Node2Vec\n",
        "from collections import Counter\n",
        "from tqdm import tqdm\n",
        "from gensim.models import Word2Vec\n",
        "import seaborn as sns"
      ]
    },
    {
      "cell_type": "markdown",
      "id": "d28ef000-1653-4c88-8a2b-fb46e3b3dd9b",
      "metadata": {
        "id": "d28ef000-1653-4c88-8a2b-fb46e3b3dd9b"
      },
      "source": [
        "## EDA"
      ]
    },
    {
      "cell_type": "code",
      "execution_count": null,
      "id": "ab8729c5-309d-4b2f-b813-03cb27747008",
      "metadata": {
        "id": "ab8729c5-309d-4b2f-b813-03cb27747008"
      },
      "outputs": [],
      "source": [
        "# Finding all possible answers in a column to capture if there are any weird answers\n",
        "\n",
        "print(df['event_name'].value_counts())\n",
        "print(\"\")\n",
        "print(df['item_id'].value_counts()) # I can see with this what most popular products are. Some id's are shorter in length because excel doesn't capture a 0 at the beginning of a number.\n",
        "print(\"\")\n",
        "print(df['item_brand'].value_counts()) # See what the most popular brand is\n",
        "print(\"\")\n",
        "print(df['item_category'].value_counts()) # only contains (not_set)\n",
        "print(\"\")\n",
        "print(df['item_category2'].value_counts()) # Contains a lot of (not_set)\n",
        "print(\"\")\n",
        "print(df['item_category3'].value_counts()) # Contains a lot of (not_set)\n",
        "print(\"\")\n",
        "print(df['item_category4'].value_counts()) # Contains a lot of (not_set)\n",
        "print(\"\")\n",
        "print(df['item_category5'].value_counts()) # Contains a lot of (not_set)\n",
        "print(\"\")\n",
        "print(df['item_variant'].value_counts()) # does not contain any data.\n",
        "print(\"\")\n",
        "print(df['quantity'].value_counts()) # Shows what kind of quantity's there are\n",
        "print(\"\")\n",
        "print(df['item_revenue'].value_counts()) # Shows what kind of revenue's  there are."
      ]
    },
    {
      "cell_type": "code",
      "execution_count": null,
      "id": "3d77858c-dd3f-4ac1-b1bc-5f3aa434ae30",
      "metadata": {
        "id": "3d77858c-dd3f-4ac1-b1bc-5f3aa434ae30"
      },
      "outputs": [],
      "source": [
        "# Finding all the unique values in the event_name, item_category, and item_variant columns\n",
        "\n",
        "print('Unique values event_name:')\n",
        "print(df['event_name'].unique())\n",
        "print(\"\")\n",
        "print('Unique values item_category:')\n",
        "print(df['item_category'].unique()) # only has not set and nan values\n",
        "print(\"\")\n",
        "print('Unique values item_variant:')\n",
        "print(df['item_variant'].unique()) # only has nan values\n",
        "print(\"\")"
      ]
    },
    {
      "cell_type": "code",
      "source": [
        "# finding the number of unique items\n",
        "print(df['item_id'].nunique()) "
      ],
      "metadata": {
        "id": "kkQXsNhmfxyy"
      },
      "id": "kkQXsNhmfxyy",
      "execution_count": null,
      "outputs": []
    },
    {
      "cell_type": "code",
      "source": [
        "# creating a list of all items in dataset for later purpose\n",
        "all_item_ids = df.item_id.values.tolist()"
      ],
      "metadata": {
        "id": "NEPVhEW_nuyD"
      },
      "id": "NEPVhEW_nuyD",
      "execution_count": 100,
      "outputs": []
    },
    {
      "cell_type": "code",
      "execution_count": null,
      "id": "184a52c4-e7f8-4665-97ce-d18221edd84c",
      "metadata": {
        "id": "184a52c4-e7f8-4665-97ce-d18221edd84c"
      },
      "outputs": [],
      "source": [
        "# Checking the data types of the features\n",
        "\n",
        "df.dtypes "
      ]
    },
    {
      "cell_type": "code",
      "execution_count": null,
      "id": "9d99dd1d-773c-4d44-901e-bb99ce9851fe",
      "metadata": {
        "id": "9d99dd1d-773c-4d44-901e-bb99ce9851fe"
      },
      "outputs": [],
      "source": [
        "# Checking missing data\n",
        "\n",
        "df.isnull().sum()\n",
        "\n",
        "# Price contains missing data\n",
        "# Item_brand contains missing data\n",
        "# All the item_category's contain missing data but is not fully captured by this code. See previous cells.\n",
        "# Item_variant does not contain any data\n",
        "# Quantity and revenue are containing a lot of missing data because they are only relevant when a product is purchased."
      ]
    },
    {
      "cell_type": "code",
      "execution_count": 103,
      "id": "11819c1e-2377-46d5-974f-6a325dd97e7f",
      "metadata": {
        "id": "11819c1e-2377-46d5-974f-6a325dd97e7f"
      },
      "outputs": [],
      "source": [
        "# Chose to drop item_variant, and category columns because they contain a lot of missing data. \n",
        "\n",
        "df.drop(columns='item_variant', inplace=True)\n",
        "df.drop(columns='item_category', inplace=True)\n",
        "df.drop(columns='item_category2', inplace=True)\n",
        "df.drop(columns='item_category3', inplace=True)\n",
        "df.drop(columns='item_category4', inplace=True)\n",
        "df.drop(columns='item_category5', inplace=True)"
      ]
    },
    {
      "cell_type": "code",
      "execution_count": null,
      "id": "32452fbf-2366-420b-95f7-67cb8f1dc4e4",
      "metadata": {
        "id": "32452fbf-2366-420b-95f7-67cb8f1dc4e4"
      },
      "outputs": [],
      "source": [
        "# viewing event distribution\n",
        "\n",
        "df['event_name'].value_counts().plot(kind='bar')"
      ]
    },
    {
      "cell_type": "code",
      "source": [
        "# checking amount of sessions in whole dataset\n",
        "ses_am = df.groupby('session_id')['event_name', 'item_id', 'price', 'item_brand', 'quantity', 'item_revenue', 'page'].agg(list).reset_index()\n",
        "ses_am"
      ],
      "metadata": {
        "id": "Gik26WInybVR"
      },
      "id": "Gik26WInybVR",
      "execution_count": null,
      "outputs": []
    },
    {
      "cell_type": "code",
      "source": [
        "# selecting the sessions that do not contain a purchase.\n",
        "\n",
        "# Grouping the data by session_id and apply a lambda function to each group\n",
        "filtered_df = df.groupby('session_id').apply(lambda x: x[x['event_name'] != 'purchase'])\n",
        "\n",
        "# Resetting the index of the resulting DataFrame\n",
        "filtered_df = filtered_df.reset_index(drop=True)"
      ],
      "metadata": {
        "id": "ZCHYxSwImFmM"
      },
      "id": "ZCHYxSwImFmM",
      "execution_count": 106,
      "outputs": []
    },
    {
      "cell_type": "code",
      "source": [
        "# finding the most interacted products in non_purchase dataset\n",
        "top_5_interact = filtered_df['item_id'].value_counts().head(5)\n",
        "top_5_interact"
      ],
      "metadata": {
        "id": "R683Adx5xuIa"
      },
      "id": "R683Adx5xuIa",
      "execution_count": null,
      "outputs": []
    },
    {
      "cell_type": "code",
      "source": [
        "top_5_interact.plot(kind='bar', color='#003060')\n",
        "plt.title('Top 5 Most Interacted Products in non-purchase sessions')\n",
        "plt.xlabel('Product')\n",
        "plt.ylabel('Number of Sales')\n",
        "plt.xticks(rotation=45, color='#986B23')\n",
        "plt.ylim(0, 35000)\n",
        "plt.show()"
      ],
      "metadata": {
        "id": "5Rq29duYxyVM"
      },
      "id": "5Rq29duYxyVM",
      "execution_count": null,
      "outputs": []
    },
    {
      "cell_type": "code",
      "source": [
        "# finding the most interacted brands in non_purchase dataset\n",
        "top_5_interact_brands = filtered_df['item_brand'].value_counts().head(5)\n",
        "top_5_interact_brands"
      ],
      "metadata": {
        "id": "A8cOhOceyFYQ"
      },
      "id": "A8cOhOceyFYQ",
      "execution_count": null,
      "outputs": []
    },
    {
      "cell_type": "code",
      "source": [
        "top_5_interact_brands.plot(kind='bar', color='#003060')\n",
        "plt.suptitle('Top 5 Most Interacted Brands in non-purchase sessions', y=1.0)\n",
        "plt.xlabel('Brands')\n",
        "plt.ylabel('Number of Sales')\n",
        "plt.xticks(rotation=45, color='#986B23')\n",
        "plt.show()"
      ],
      "metadata": {
        "id": "XxNfeGILx5Qr"
      },
      "id": "XxNfeGILx5Qr",
      "execution_count": null,
      "outputs": []
    },
    {
      "cell_type": "code",
      "source": [
        "# Grouping the non_purchase data by session to compute the average session length\n",
        "filtered_df = filtered_df.groupby('session_id')['event_name', 'item_id', 'price', 'item_brand', 'quantity', 'item_revenue', 'page'].agg(list).reset_index()"
      ],
      "metadata": {
        "id": "xidhuzArm3Li"
      },
      "id": "xidhuzArm3Li",
      "execution_count": null,
      "outputs": []
    },
    {
      "cell_type": "code",
      "source": [
        "# adding a length column for later purpose\n",
        "filtered_df['length'] = filtered_df['event_name'].apply(lambda x: len(x))\n",
        "filtered_df"
      ],
      "metadata": {
        "id": "AXBjyiGvuWVl"
      },
      "id": "AXBjyiGvuWVl",
      "execution_count": null,
      "outputs": []
    },
    {
      "cell_type": "code",
      "source": [
        "#calculating average length per session in non_purchase sessions: amount of sessions is 108.453 in dataset\n",
        "\n",
        "print(filtered_df['length'].sum())\n",
        "average_non_purchase = 6712665/108453\n",
        "print('average session length of non_purchase sessions in dataset =', average_non_purchase)"
      ],
      "metadata": {
        "id": "dCujFDRZtYgp"
      },
      "id": "dCujFDRZtYgp",
      "execution_count": null,
      "outputs": []
    },
    {
      "cell_type": "code",
      "source": [
        "# Creating dataframe of sessions that contain at least one purchase and grouping them to get a session_id per row\n",
        "\n",
        "purchase_session_ids = df[df['event_name'].apply(lambda x: 'purchase' in x)]['session_id'].unique().tolist()\n",
        "purchase_data = df[df['session_id'].isin(purchase_session_ids)]\n",
        "purchase_data = purchase_data.groupby('session_id')['event_name', 'item_id', 'price', 'item_brand', 'quantity', 'item_revenue', 'page'].agg(list).reset_index()"
      ],
      "metadata": {
        "id": "UkqXhf6r5Q6w"
      },
      "id": "UkqXhf6r5Q6w",
      "execution_count": null,
      "outputs": []
    },
    {
      "cell_type": "code",
      "source": [
        "# checking if i get the right result\n",
        "purchase_data"
      ],
      "metadata": {
        "id": "S7dnck5i7mZt"
      },
      "id": "S7dnck5i7mZt",
      "execution_count": null,
      "outputs": []
    },
    {
      "cell_type": "code",
      "source": [
        "# computing the length column again to compute the length per session which contain at least one purchase\n",
        "\n",
        "purchase_data['length'] = purchase_data['event_name'].apply(lambda x: len(x))"
      ],
      "metadata": {
        "id": "60Ntd2Yg9o6M"
      },
      "id": "60Ntd2Yg9o6M",
      "execution_count": 116,
      "outputs": []
    },
    {
      "cell_type": "code",
      "source": [
        "#calculating average length per session in sessions that contain at least one purchase: amount of sessions is 4383 in dataset\n",
        "\n",
        "print(purchase_data['length'].sum()) # total length is 1967567\n",
        "average_purchase = 1967567/4383\n",
        "print('average session length of non_purchase sessions in dataset =', average_purchase)"
      ],
      "metadata": {
        "id": "TuHE8k6696Tf"
      },
      "id": "TuHE8k6696Tf",
      "execution_count": null,
      "outputs": []
    },
    {
      "cell_type": "code",
      "source": [
        "# Creating a plot to show the difference in average length across purchase and\n",
        "# non-purchase sessions\n",
        "\n",
        "\n",
        "bars = plt.bar([1, 2], [average_purchase, average_non_purchase])\n",
        "\n",
        "\n",
        "for bar in bars:\n",
        "    if bar.get_height() > 70:\n",
        "        bar.set_color('#003060')\n",
        "    else:\n",
        "        bar.set_color('#986B23')\n",
        "\n",
        "\n",
        "plt.ylabel(\"Average Length (events)\")\n",
        "plt.xlabel(\"Session Type\")\n",
        "plt.xticks([1, 2], [\"At least one purchase\", \"Non-Purchase\"], color='#986B23')\n",
        "plt.title(\"Average Length of Purchase and Non-Purchase Sessions\")\n",
        "plt.ylim(0, 500)\n",
        "\n",
        "\n",
        "plt.show()"
      ],
      "metadata": {
        "id": "0vwA3sBS__aU"
      },
      "id": "0vwA3sBS__aU",
      "execution_count": null,
      "outputs": []
    },
    {
      "cell_type": "code",
      "source": [
        "# doing some EDA on sessions that contain a purchase\n",
        "\n",
        "purchases = df[df['event_name'] == 'purchase']"
      ],
      "metadata": {
        "id": "FUt1KBJDp-fF"
      },
      "id": "FUt1KBJDp-fF",
      "execution_count": 119,
      "outputs": []
    },
    {
      "cell_type": "code",
      "source": [
        "# finding the most sold product in dataset\n",
        "top_5_products = purchases['item_id'].value_counts().head(5)\n",
        "top_5_products"
      ],
      "metadata": {
        "id": "FFem0QpHpd4T"
      },
      "id": "FFem0QpHpd4T",
      "execution_count": null,
      "outputs": []
    },
    {
      "cell_type": "code",
      "execution_count": null,
      "id": "ba168cac-18db-4171-a6a3-ffedad505a5e",
      "metadata": {
        "id": "ba168cac-18db-4171-a6a3-ffedad505a5e"
      },
      "outputs": [],
      "source": [
        "# finding the most sold product in dataset\n",
        "\n",
        "top_5_products.plot(kind='bar', color='#003060')\n",
        "plt.title('Top 5 Most Sold Products')\n",
        "plt.xlabel('Product')\n",
        "plt.ylabel('Number of Sales')\n",
        "plt.xticks(rotation=45, color='#986B23')\n",
        "plt.ylim(0, 250)\n",
        "plt.show()\n"
      ]
    },
    {
      "cell_type": "code",
      "source": [
        "top_5_brands = purchases['item_brand'].value_counts().head(5)\n",
        "\n",
        "top_5_brands"
      ],
      "metadata": {
        "id": "2PWBi6D0pJgZ"
      },
      "id": "2PWBi6D0pJgZ",
      "execution_count": null,
      "outputs": []
    },
    {
      "cell_type": "code",
      "source": [
        "# finding the most sold brand in dataset\n",
        "\n",
        "top_5_brands.plot(kind='bar', color='#003060')\n",
        "plt.title('Top 5 Most Sold Brands')\n",
        "plt.xlabel('Brand')\n",
        "plt.ylabel('Number of Sales')\n",
        "plt.xticks(rotation=45, color='#986B23')\n",
        "plt.ylim(0, 20000)\n",
        "plt.show()"
      ],
      "metadata": {
        "id": "OdZW7Ge_ojKs"
      },
      "id": "OdZW7Ge_ojKs",
      "execution_count": null,
      "outputs": []
    },
    {
      "cell_type": "markdown",
      "id": "92cea4d3-4d9c-411d-88cd-f4b35ee029cf",
      "metadata": {
        "id": "92cea4d3-4d9c-411d-88cd-f4b35ee029cf"
      },
      "source": [
        "# Preprocessing"
      ]
    },
    {
      "cell_type": "code",
      "execution_count": null,
      "id": "FYEz1dkHJUjJ",
      "metadata": {
        "id": "FYEz1dkHJUjJ"
      },
      "outputs": [],
      "source": [
        "df = df.groupby('session_id')['event_name', 'item_id', 'event_timestamp'].agg(list).reset_index()"
      ]
    },
    {
      "cell_type": "code",
      "execution_count": null,
      "id": "5gXiU2OSQzx0",
      "metadata": {
        "id": "5gXiU2OSQzx0"
      },
      "outputs": [],
      "source": [
        "# computing the length function to keep sessions that are between length 5 and 500\n",
        "df['length'] = df['event_name'].apply(lambda x: len(x))\n",
        "df"
      ]
    },
    {
      "cell_type": "code",
      "execution_count": null,
      "id": "AMKkENduQv9T",
      "metadata": {
        "id": "AMKkENduQv9T"
      },
      "outputs": [],
      "source": [
        "# Droping rows where length is smaller than 5 or bigger than 10\n",
        "df = df.drop(df[(df['length'] < 5) | (df['length'] > 500)].index)\n",
        "\n",
        "# Checking the df\n",
        "df"
      ]
    },
    {
      "cell_type": "code",
      "execution_count": null,
      "id": "QMo625ScWlrg",
      "metadata": {
        "id": "QMo625ScWlrg"
      },
      "outputs": [],
      "source": [
        "# checking max and min length\n",
        "\n",
        "print(df['length'].max())\n",
        "print(df['length'].min())"
      ]
    },
    {
      "cell_type": "code",
      "execution_count": 129,
      "id": "qLDFpNHQYXJl",
      "metadata": {
        "id": "qLDFpNHQYXJl"
      },
      "outputs": [],
      "source": [
        "# dont need it anymore for now\n",
        "df.drop(columns='length', inplace=True)"
      ]
    },
    {
      "cell_type": "code",
      "execution_count": 130,
      "id": "0a75c778-5e38-4194-b10a-155183632dcd",
      "metadata": {
        "id": "0a75c778-5e38-4194-b10a-155183632dcd"
      },
      "outputs": [],
      "source": [
        "# creating a dataframe that contains items that occur before a purchase which will be serving \n",
        "# as x values and purchase in a session will be serving as a y value.\n",
        "\n",
        "output = []\n",
        "non_purchase_events = []\n",
        "non_purchase_item_ids = []\n",
        "prev_session_id = df.iloc[0]['session_id']\n",
        "for _, row in df.iterrows():\n",
        "    session_id = row['session_id']\n",
        "    if session_id != prev_session_id:\n",
        "        non_purchase_events = []\n",
        "        non_purchase_item_ids = []\n",
        "    for event, item_id in zip(row['event_name'], row['item_id']):\n",
        "        if event == 'purchase':\n",
        "            output.append({'session_id': session_id, \n",
        "                           'purchase_event': event, \n",
        "                           'purchase_item_id': item_id,\n",
        "                           'non_purchase_events_before_purchase': non_purchase_events,\n",
        "                           'non_purchase_item_ids_before_purchase': non_purchase_item_ids})\n",
        "        else:\n",
        "            non_purchase_events.append(event)\n",
        "            non_purchase_item_ids.append(item_id)\n",
        "    prev_session_id = session_id\n",
        "\n",
        "result = pd.DataFrame(output)\n",
        "\n",
        "#reordering the columns\n",
        "result = result[['session_id', 'non_purchase_events_before_purchase', \n",
        "                 'non_purchase_item_ids_before_purchase', 'purchase_event', 'purchase_item_id']]"
      ]
    },
    {
      "cell_type": "code",
      "execution_count": null,
      "id": "f2a95baf-50f9-4e1a-b122-b57f4f3a6a3c",
      "metadata": {
        "id": "f2a95baf-50f9-4e1a-b122-b57f4f3a6a3c"
      },
      "outputs": [],
      "source": [
        "# checking result\n",
        "result"
      ]
    },
    {
      "cell_type": "code",
      "execution_count": 132,
      "id": "3924d0d3-77e1-4faf-afcb-524cd99ea418",
      "metadata": {
        "id": "3924d0d3-77e1-4faf-afcb-524cd99ea418"
      },
      "outputs": [],
      "source": [
        "# adding length column for checking the lengths of sessions again \n",
        "result['length'] = result['non_purchase_events_before_purchase'].apply(lambda x: len(x))"
      ]
    },
    {
      "cell_type": "code",
      "execution_count": null,
      "id": "086a1023-b240-4403-aa49-6c9d89a4c653",
      "metadata": {
        "id": "086a1023-b240-4403-aa49-6c9d89a4c653"
      },
      "outputs": [],
      "source": [
        "# finding the max and min length\n",
        "print(result['length'].max())\n",
        "print(result['length'].min())"
      ]
    },
    {
      "cell_type": "code",
      "execution_count": null,
      "id": "70d4f501-e5f9-4d33-be6c-0cc5bbb28f79",
      "metadata": {
        "id": "70d4f501-e5f9-4d33-be6c-0cc5bbb28f79"
      },
      "outputs": [],
      "source": [
        "# dropping sessions that only contain a purchase without any events before\n",
        "result = result.drop(result.loc[result['length'] == 0].index)\n",
        "\n",
        "# checking if the right result is generated\n",
        "print(result['length'].min())"
      ]
    },
    {
      "cell_type": "markdown",
      "id": "7e2280d5-9bbb-4ce1-8c62-caaa9b0bbd03",
      "metadata": {
        "id": "7e2280d5-9bbb-4ce1-8c62-caaa9b0bbd03"
      },
      "source": [
        "I created a dataset which contains sessions that contain at least 1 purchase. For training purposes I created non purchase events that occur before a purchase which are the x values, and the purchase is now the y value. "
      ]
    },
    {
      "cell_type": "code",
      "execution_count": null,
      "id": "0c7334ab-9858-4b51-91b6-c73c2435e40d",
      "metadata": {
        "id": "0c7334ab-9858-4b51-91b6-c73c2435e40d"
      },
      "outputs": [],
      "source": [
        "# find biggest session\n",
        "print(result['length'].max())"
      ]
    },
    {
      "cell_type": "code",
      "execution_count": null,
      "id": "b59a0c92-6527-4c2c-bf84-6ed128ec0351",
      "metadata": {
        "id": "b59a0c92-6527-4c2c-bf84-6ed128ec0351"
      },
      "outputs": [],
      "source": [
        "# checking how many different sessions there are\n",
        "result['session_id'].nunique()\n"
      ]
    },
    {
      "cell_type": "code",
      "execution_count": null,
      "id": "1177936e-1069-40ed-bc5d-9edf23630009",
      "metadata": {
        "id": "1177936e-1069-40ed-bc5d-9edf23630009"
      },
      "outputs": [],
      "source": [
        "#calculating average length per session: amount of sessions is 3312 in dataset\n",
        "\n",
        "print(result['length'].sum()) # total length is 4024207\n",
        "average = 4024207/3312\n",
        "print('average length per session in dataset =', average)"
      ]
    },
    {
      "cell_type": "code",
      "execution_count": null,
      "id": "2bpmpdiPTAiD",
      "metadata": {
        "id": "2bpmpdiPTAiD"
      },
      "outputs": [],
      "source": [
        "# Checking the definitive dataset that is used as input for models\n",
        "result.to_csv('result.csv')\n",
        "result"
      ]
    },
    {
      "cell_type": "markdown",
      "id": "b70dae2f-87f9-4d77-b91d-f88b4bd8a015",
      "metadata": {
        "id": "b70dae2f-87f9-4d77-b91d-f88b4bd8a015"
      },
      "source": [
        "## Baseline method"
      ]
    },
    {
      "cell_type": "code",
      "source": [
        "# creating train test split\n",
        "train_data, test_data = train_test_split(result, test_size=0.20)"
      ],
      "metadata": {
        "id": "Lg1-zrncvqbI"
      },
      "id": "Lg1-zrncvqbI",
      "execution_count": 142,
      "outputs": []
    },
    {
      "cell_type": "code",
      "source": [
        "# getting items per row\n",
        "train_data = train_data.explode('non_purchase_item_ids_before_purchase')"
      ],
      "metadata": {
        "id": "rq9xP4VuzFQU"
      },
      "id": "rq9xP4VuzFQU",
      "execution_count": 143,
      "outputs": []
    },
    {
      "cell_type": "code",
      "source": [
        "# getting items per row\n",
        "test_data = test_data.explode('non_purchase_item_ids_before_purchase')"
      ],
      "metadata": {
        "id": "-4BZWc3jz0p3"
      },
      "id": "-4BZWc3jz0p3",
      "execution_count": 144,
      "outputs": []
    },
    {
      "cell_type": "code",
      "source": [
        "# computing the popularity of items in the training set by counting the number of interactions for each item and storing the results in a dictionary.\n",
        "item_popularity = train_data.groupby('non_purchase_item_ids_before_purchase')['session_id'].count()"
      ],
      "metadata": {
        "id": "CgDo14T2v3I2"
      },
      "id": "CgDo14T2v3I2",
      "execution_count": 145,
      "outputs": []
    },
    {
      "cell_type": "code",
      "source": [
        "# Sorting the items by popularity, in descending order.\n",
        "item_popularity_sorted = item_popularity.sort_values(ascending=False)"
      ],
      "metadata": {
        "id": "ivKPzVlZwRTF"
      },
      "id": "ivKPzVlZwRTF",
      "execution_count": 146,
      "outputs": []
    },
    {
      "cell_type": "code",
      "source": [
        "# Recommend the top N items to the user by selecting the first N items from the sorted list of item popularity.\n",
        "top_n_item = item_popularity_sorted.head(1)\n",
        "top_n_item"
      ],
      "metadata": {
        "id": "Yyofo4xNwbX_"
      },
      "id": "Yyofo4xNwbX_",
      "execution_count": null,
      "outputs": []
    },
    {
      "cell_type": "code",
      "source": [
        "top_n_item = '0941443'"
      ],
      "metadata": {
        "id": "0zGSjFHK1kwz"
      },
      "id": "0zGSjFHK1kwz",
      "execution_count": 148,
      "outputs": []
    },
    {
      "cell_type": "code",
      "source": [
        "# adding a column to test set which respresent the item that is recommended\n",
        "test_data['recommendations'] = test_data.apply(lambda x: top_n_item, axis=1)"
      ],
      "metadata": {
        "id": "Q4CGaQc6xW2i"
      },
      "id": "Q4CGaQc6xW2i",
      "execution_count": 149,
      "outputs": []
    },
    {
      "cell_type": "code",
      "source": [
        "test_data"
      ],
      "metadata": {
        "id": "KRacdWh60rnv"
      },
      "id": "KRacdWh60rnv",
      "execution_count": null,
      "outputs": []
    },
    {
      "cell_type": "code",
      "source": [
        "# creating the y_test and y_preds variables\n",
        "y_test = test_data['purchase_item_id']\n",
        "y_preds = test_data['recommendations']"
      ],
      "metadata": {
        "id": "0cPxPWUawqmv"
      },
      "id": "0cPxPWUawqmv",
      "execution_count": 151,
      "outputs": []
    },
    {
      "cell_type": "code",
      "source": [
        "# defining a function to find the succesful recommendations\n",
        "\n",
        "def find_successes(y_pred, y_true):\n",
        "  successes = []\n",
        "  for pred in y_pred:\n",
        "    if pred in y_true:\n",
        "      successes.append(pred)\n",
        "      \n",
        "  return successes\n",
        "\n",
        "# finding succesful recommendations\n",
        "\n",
        "successes = find_successes(y_preds, y_test)"
      ],
      "metadata": {
        "id": "ONhxrCSJ2K2n"
      },
      "id": "ONhxrCSJ2K2n",
      "execution_count": 152,
      "outputs": []
    },
    {
      "cell_type": "code",
      "source": [
        "# defining the function for hit rate\n",
        "\n",
        "def hit_ratio(recommendations, successes):\n",
        "  n_recommendations = len(recommendations)\n",
        "  n_successes = len(successes)\n",
        "  hit_ratio = n_successes / n_recommendations\n",
        "  \n",
        "  return hit_ratio\n",
        "\n",
        "hit_ratio_base = hit_ratio(y_preds, successes)\n",
        "\n",
        "print(hit_ratio_base)"
      ],
      "metadata": {
        "id": "XOfvr-6a2a_P"
      },
      "id": "XOfvr-6a2a_P",
      "execution_count": 153,
      "outputs": []
    },
    {
      "cell_type": "code",
      "source": [
        "# creating bar plot to visualize the hit ratio\n",
        "\n",
        "\n",
        "plt.figure(figsize=(3, 3))\n",
        "plt.bar([''], [hit_ratio_base], color='#003060')\n",
        "plt.xlabel('Hits across true labels', color='#986B23')\n",
        "plt.ylabel('Hit Ratio')\n",
        "plt.ylim(0, 1)\n",
        "\n",
        "plt.show()"
      ],
      "metadata": {
        "id": "MTN0X3yZ3uCH"
      },
      "id": "MTN0X3yZ3uCH",
      "execution_count": null,
      "outputs": []
    },
    {
      "cell_type": "code",
      "source": [
        "# defining x_test to find top 50 most popular items which predictions are going to be compared to\n",
        "\n",
        "x_test = test_data['non_purchase_item_ids_before_purchase']"
      ],
      "metadata": {
        "id": "FTKeMoKX4TeF"
      },
      "id": "FTKeMoKX4TeF",
      "execution_count": 156,
      "outputs": []
    },
    {
      "cell_type": "code",
      "source": [
        "# finding the popular items in test set so i can assess how model is performing across popular items and if popular items will likely result in purchase\n",
        "\n",
        "counter = Counter(x_test)\n",
        "\n",
        "most_common = counter.most_common(50)\n",
        "\n",
        "most_common_items = [x[0] for x in most_common]\n",
        "\n",
        "print(most_common_items)"
      ],
      "metadata": {
        "id": "YEgSHsMc30UT"
      },
      "id": "YEgSHsMc30UT",
      "execution_count": null,
      "outputs": []
    },
    {
      "cell_type": "code",
      "source": [
        "# finding successes across popular products and computing the hit ratio\n",
        "successes = find_successes(y_preds, most_common_items)\n",
        "hit_ratio_pop_base = hit_ratio(y_preds, successes)"
      ],
      "metadata": {
        "id": "1yII1s7FOCrF"
      },
      "id": "1yII1s7FOCrF",
      "execution_count": null,
      "outputs": []
    },
    {
      "cell_type": "code",
      "source": [
        "print(hit_ratio_pop_base)"
      ],
      "metadata": {
        "id": "MTg5McQ55Lav"
      },
      "id": "MTg5McQ55Lav",
      "execution_count": null,
      "outputs": []
    },
    {
      "cell_type": "code",
      "source": [
        "# creating bar plot to visualize the hit ratio across top 50 popular products in test set\n",
        "\n",
        "plt.figure(figsize=(3, 3))\n",
        "plt.bar([''], [hit_ratio_pop_base], color='#003060')\n",
        "\n",
        "plt.xlabel('Hits across top 50 populair products', color='#986B23')\n",
        "plt.ylabel('Hit Ratio')\n",
        "plt.ylim(0, 1)\n",
        "\n",
        "plt.show()"
      ],
      "metadata": {
        "id": "bWr828Iq5Yl2"
      },
      "id": "bWr828Iq5Yl2",
      "execution_count": null,
      "outputs": []
    },
    {
      "cell_type": "code",
      "source": [
        "# Converting y_test into binary values to generate confusion matrix\n",
        "y_test_binary = [0] * len(all_item_ids)\n",
        "for item_id in y_test:\n",
        "    y_test_binary[all_item_ids.index(item_id)] = 1\n",
        "\n",
        "# Converting y_preds into binary values to generate confusion matrix\n",
        "y_preds_binary = [0] * len(all_item_ids)\n",
        "for item_id in y_preds:\n",
        "    y_preds_binary[all_item_ids.index(item_id)] = 1\n",
        "\n",
        "confusion_mat_perc = confusion_matrix(y_test_binary, y_preds_binary, normalize='true')"
      ],
      "metadata": {
        "id": "ankm4Ei7Yq8S"
      },
      "id": "ankm4Ei7Yq8S",
      "execution_count": null,
      "outputs": []
    },
    {
      "cell_type": "code",
      "source": [
        "sns.heatmap(confusion_mat_perc, cmap='GnBu', annot=True, annot_kws={\"size\": 13}, vmin=0, vmax=100)\n",
        "plt.xlabel('Predicted values (0 = non-purchase, 1 = purchase')\n",
        "plt.ylabel('True values (1 = purchase, 0 = non-purchase)')\n",
        "plt.show()"
      ],
      "metadata": {
        "collapsed": true,
        "id": "x5wddVJrDdz5"
      },
      "id": "x5wddVJrDdz5",
      "execution_count": null,
      "outputs": []
    },
    {
      "cell_type": "markdown",
      "id": "4216e95d-31f0-45b7-be14-07d2c3a928dd",
      "metadata": {
        "id": "4216e95d-31f0-45b7-be14-07d2c3a928dd"
      },
      "source": [
        "# Creating the knowledge graph"
      ]
    },
    {
      "cell_type": "code",
      "source": [
        "# getting the items per column to be compatible as input for knowledge graph. \n",
        "result = result.explode('non_purchase_item_ids_before_purchase')"
      ],
      "metadata": {
        "id": "bZnOmVucyseM"
      },
      "id": "bZnOmVucyseM",
      "execution_count": 165,
      "outputs": []
    },
    {
      "cell_type": "code",
      "source": [
        "# creating train test split. Training data will be used as input for the knowledge graph. The models will learn from this knowledge graph.\n",
        "# the predictions will be done based on the non_purchase_item_ids_before_purchase in x_test. The models will be evaluated by comparing y_pred with y_test.\n",
        "\n",
        "train_df, test_df = train_test_split(result, test_size=0.20)\n",
        " "
      ],
      "metadata": {
        "id": "Uskc0pLFuthT"
      },
      "id": "Uskc0pLFuthT",
      "execution_count": 167,
      "outputs": []
    },
    {
      "cell_type": "code",
      "source": [
        "# only need to create x_test and y_test for evaluation purpose later on. x_train and y_train is not necessary because knowledge graph takes dataset as\n",
        "# first input and then you can define the columns of this dataset as source (which serves as x) and target (which serves as y).\n",
        "x_test = test_df.non_purchase_item_ids_before_purchase.values.tolist()\n",
        "y_test = test_df.purchase_item_id.values.tolist()"
      ],
      "metadata": {
        "id": "6ElOxBW-xYWx"
      },
      "id": "6ElOxBW-xYWx",
      "execution_count": 168,
      "outputs": []
    },
    {
      "cell_type": "code",
      "execution_count": null,
      "id": "418a3ed7-184c-444e-aed8-763c1a5bb5de",
      "metadata": {
        "id": "418a3ed7-184c-444e-aed8-763c1a5bb5de"
      },
      "outputs": [],
      "source": [
        "# knowledge graph is created from training data\n",
        "graph = nx.from_pandas_edgelist(train_df,source='non_purchase_item_ids_before_purchase',target='purchase_item_id'\n",
        ",edge_attr='session_id',create_using=nx.DiGraph())\n",
        "print(nx.info(graph))"
      ]
    },
    {
      "cell_type": "code",
      "source": [
        "selected_rows = result[result['length'] == 10]"
      ],
      "metadata": {
        "id": "WTiPQ_wFOnPc"
      },
      "id": "WTiPQ_wFOnPc",
      "execution_count": 170,
      "outputs": []
    },
    {
      "cell_type": "code",
      "source": [
        "# generating an example of knowledge graph with 3 sessions\n",
        "G = nx.DiGraph()\n",
        "\n",
        "\n",
        "G.add_edge(1150013, 7501994)\n",
        "G.add_edge(8212712, 7501994) \n",
        "G.add_edge(7505042, 7501994)\n",
        "G.add_edge(7501994,7501994)\n",
        "G.add_edge(8402000,8402000)\n",
        "G.add_edge(8405310,8402000)\n",
        "G.add_edge(7501811,8402000)\n",
        "G.add_edge(468037,8402000)\n",
        "G.add_edge(8402000,8405310)\n",
        "G.add_edge(7467280,1530216)\n",
        "G.add_edge(7467408,1530216)\n",
        "\n",
        "edge_labels = nx.get_edge_attributes(G, 'label')\n",
        "nx.draw(G, with_labels=True)\n",
        "nx.draw_networkx_edge_labels(G, pos=nx.spring_layout(G), edge_labels=edge_labels)\n",
        "plt.show()"
      ],
      "metadata": {
        "id": "kxTdOmm8Mb0d"
      },
      "id": "kxTdOmm8Mb0d",
      "execution_count": null,
      "outputs": []
    },
    {
      "cell_type": "markdown",
      "id": "1c655132-a51e-403f-9fbd-1701ad782afd",
      "metadata": {
        "id": "1c655132-a51e-403f-9fbd-1701ad782afd"
      },
      "source": [
        "## Applying Node2Vec"
      ]
    },
    {
      "cell_type": "code",
      "execution_count": null,
      "id": "23b148f9-23ac-4901-9d08-ce19cf2ec9cd",
      "metadata": {
        "id": "23b148f9-23ac-4901-9d08-ce19cf2ec9cd"
      },
      "outputs": [],
      "source": [
        "# computing the n2v model\n",
        "g_emb = Node2Vec(graph)\n",
        "\n",
        "\n",
        "WINDOW = 1 \n",
        "MIN_COUNT = 5 \n",
        "BATCH_WORDS = 4 \n",
        "\n",
        "mdl = g_emb.fit(\n",
        "    window=WINDOW,\n",
        "    min_count=MIN_COUNT,\n",
        "    batch_words=BATCH_WORDS\n",
        ")\n",
        "\n",
        "# Getting the node embeddings\n",
        "embeddings = (\n",
        "    pd.DataFrame(\n",
        "        [mdl.wv.get_vector(str(n)) for n in graph.nodes()],\n",
        "        index = graph.nodes\n",
        "    )\n",
        ")\n",
        "\n"
      ]
    },
    {
      "cell_type": "code",
      "source": [
        "# finding the most popular item that is purchased to replace an item if the knowledge graph was not able to capture an item id\n",
        "\n",
        "counter = Counter(y_test)\n",
        "\n",
        "most_common = counter.most_common(1)\n",
        "\n",
        "print(most_common)"
      ],
      "metadata": {
        "id": "sKUNWNPb400T"
      },
      "id": "sKUNWNPb400T",
      "execution_count": null,
      "outputs": []
    },
    {
      "cell_type": "code",
      "execution_count": null,
      "id": "db3695ae-4ab0-4f80-8fd7-b7cc71e3501d",
      "metadata": {
        "id": "db3695ae-4ab0-4f80-8fd7-b7cc71e3501d"
      },
      "outputs": [],
      "source": [
        "# Get the predictions for each input\n",
        "\n",
        "inputs = x_test\n",
        "y_preds = []\n",
        "replacement_item = '0700090'\n",
        "\n",
        "for i in inputs:\n",
        "    try:\n",
        "        prediction = [item[0] for item in mdl.wv.most_similar(i, topn=1)]\n",
        "        y_preds.append(prediction)\n",
        "    except KeyError:\n",
        "        print(f\"{i} not in vocabulary, using {replacement_item} instead\")\n",
        "        prediction = [item[0] for item in mdl.wv.most_similar(replacement_item, topn=1)]\n",
        "        y_preds.append(prediction)\n",
        "\n"
      ]
    },
    {
      "cell_type": "code",
      "source": [
        "def find_successes(y_pred, y_true):\n",
        "  \n",
        "  successes = []\n",
        "  for pred in y_pred:\n",
        "    if pred in y_true:\n",
        "      successes.append(pred)\n",
        "      \n",
        "  return successes\n",
        "\n",
        "successes = find_successes(y_preds, y_test)"
      ],
      "metadata": {
        "id": "c_TZ-xxX4L9h"
      },
      "id": "c_TZ-xxX4L9h",
      "execution_count": 1,
      "outputs": []
    },
    {
      "cell_type": "code",
      "source": [
        "# computing hit ratio\n",
        "hit_ratio = hit_ratio(y_preds, successes)"
      ],
      "metadata": {
        "id": "Ys20TE9jV1Gq"
      },
      "id": "Ys20TE9jV1Gq",
      "execution_count": 2,
      "outputs": []
    },
    {
      "cell_type": "code",
      "source": [
        "print(hit_ratio)"
      ],
      "metadata": {
        "id": "l2CwSEkU-1SD"
      },
      "id": "l2CwSEkU-1SD",
      "execution_count": null,
      "outputs": []
    },
    {
      "cell_type": "code",
      "source": [
        "# creating a plot\n",
        "plt.figure(figsize=(3, 3))\n",
        "plt.bar([''], [hit_ratio], color='#003060' )\n",
        "\n",
        "plt.xlabel('Hits across true labels', color='#986B23')\n",
        "plt.ylabel('Hit Ratio')\n",
        "plt.ylim(0, 1)\n",
        "\n",
        "plt.show()"
      ],
      "metadata": {
        "id": "y5vSqGqES-HH"
      },
      "id": "y5vSqGqES-HH",
      "execution_count": null,
      "outputs": []
    },
    {
      "cell_type": "code",
      "source": [
        "# finding the popular items in test set so i can assess how model is performing across popular items and if popular items will likely result in purchase\n",
        "\n",
        "# create a counter object\n",
        "counter = Counter(x_test)\n",
        "\n",
        "# get the most common item\n",
        "most_common = counter.most_common(50)\n",
        "\n",
        "# Only get the elements\n",
        "most_common_items = [x[0] for x in most_common]\n",
        "\n",
        "print(most_common_items)"
      ],
      "metadata": {
        "id": "ovuoKKuaXcIq"
      },
      "id": "ovuoKKuaXcIq",
      "execution_count": null,
      "outputs": []
    },
    {
      "cell_type": "code",
      "source": [
        "# finding succesful recommendations across top 50 popular products in test set\n",
        "successes = find_successes(y_preds, most_common_items)"
      ],
      "metadata": {
        "id": "ysFvMNEZYZi9"
      },
      "id": "ysFvMNEZYZi9",
      "execution_count": 112,
      "outputs": []
    },
    {
      "cell_type": "code",
      "source": [
        "# computing the hit ratio\n",
        "hit_ratio_pop = hit_ratio(y_preds, successes)"
      ],
      "metadata": {
        "id": "aO3EGXByP3I8"
      },
      "id": "aO3EGXByP3I8",
      "execution_count": null,
      "outputs": []
    },
    {
      "cell_type": "code",
      "source": [
        "print(hit_ratio_pop)"
      ],
      "metadata": {
        "id": "CaezjUvHVv_8"
      },
      "id": "CaezjUvHVv_8",
      "execution_count": null,
      "outputs": []
    },
    {
      "cell_type": "code",
      "source": [
        "# creating a plot\n",
        "plt.figure(figsize=(3, 3))\n",
        "plt.bar([''], [hit_ratio_pop], color='#003060')\n",
        "\n",
        "plt.xlabel('Hit ratio across popular products', color='#986B23')\n",
        "plt.ylabel('Hit ratio')\n",
        "plt.ylim(0, 1)\n",
        "\n",
        "plt.show()"
      ],
      "metadata": {
        "id": "4yIZrUlsWIiY"
      },
      "id": "4yIZrUlsWIiY",
      "execution_count": null,
      "outputs": []
    },
    {
      "cell_type": "code",
      "source": [
        "# Converting y_test into binary values\n",
        "y_test_binary = [0] * len(all_item_ids)\n",
        "for item_id in y_test:\n",
        "    y_test_binary[all_item_ids.index(item_id)] = 1\n",
        "\n",
        "# Converting y_preds into binary values\n",
        "y_preds_binary = [0] * len(all_item_ids)\n",
        "for item_id in y_preds:\n",
        "    y_preds_binary[all_item_ids.index(item_id)] = 1\n",
        "\n",
        "confusion_mat_perc = confusion_matrix(y_test_binary, y_preds_binary, normalize='true')"
      ],
      "metadata": {
        "id": "gxPyrLhWZhxI"
      },
      "id": "gxPyrLhWZhxI",
      "execution_count": 139,
      "outputs": []
    },
    {
      "cell_type": "code",
      "source": [
        "sns.heatmap(confusion_mat_perc, cmap='GnBu', annot=True, annot_kws={\"size\": 13}, vmin=0, vmax=100)\n",
        "plt.xlabel('Predicted values (1 = purchase, 0 = non-purchase')\n",
        "plt.ylabel('True values (1 = purchase, 0 = non-purchase)')\n",
        "plt.show()"
      ],
      "metadata": {
        "id": "gb1ZseRKBbIa"
      },
      "id": "gb1ZseRKBbIa",
      "execution_count": null,
      "outputs": []
    },
    {
      "cell_type": "markdown",
      "id": "2de3785d-4cb0-4d9e-a312-51518546ad58",
      "metadata": {
        "id": "2de3785d-4cb0-4d9e-a312-51518546ad58"
      },
      "source": [
        "## Applying Deepwalk model"
      ]
    },
    {
      "cell_type": "code",
      "execution_count": null,
      "id": "bfabcf31-ae1f-49ea-99cc-87ad4376a48b",
      "metadata": {
        "id": "bfabcf31-ae1f-49ea-99cc-87ad4376a48b"
      },
      "outputs": [],
      "source": [
        "# Creating random walks before training the model\n",
        "\n",
        "def get_randomwalk(node, path_length):\n",
        "    \n",
        "    random_walk = [node]\n",
        "    \n",
        "    for i in range(path_length-1):\n",
        "        temp = list(graph.neighbors(node))\n",
        "        temp = list(set(temp) - set(random_walk))    \n",
        "        if len(temp) == 0:\n",
        "            break\n",
        "\n",
        "        random_node = random.choice(temp)\n",
        "        random_walk.append(random_node)\n",
        "        node = random_node\n",
        "        \n",
        "    return random_walk\n",
        "\n",
        "get_randomwalk('0520276', 5)\n"
      ]
    },
    {
      "cell_type": "code",
      "execution_count": null,
      "id": "41be97ea-3afd-46d0-8927-675b8d185e83",
      "metadata": {
        "id": "41be97ea-3afd-46d0-8927-675b8d185e83"
      },
      "outputs": [],
      "source": [
        "# getting list of all nodes from the graph and apply random walks\n",
        "\n",
        "all_nodes = list(graph.nodes())\n",
        "\n",
        "random_walks = []\n",
        "for n in tqdm(all_nodes):\n",
        "    for i in range(5):\n",
        "        random_walks.append(get_randomwalk(n,3))\n",
        "        \n",
        "# count of sequences\n",
        "len(random_walks)"
      ]
    },
    {
      "cell_type": "code",
      "execution_count": null,
      "id": "687d5dfd-1367-417d-b68c-2750a1dabd45",
      "metadata": {
        "id": "687d5dfd-1367-417d-b68c-2750a1dabd45"
      },
      "outputs": [],
      "source": [
        "# train skip-gram model, which is done with word2vec function, which is used for DeepWalk\n",
        "\n",
        "model = Word2Vec(window = 4, sg = 1, hs = 0,\n",
        "                 negative = 3, # for negative sampling\n",
        "                 alpha=0.03, min_alpha=0.0007,\n",
        "                 seed = 14)\n",
        "\n",
        "model.build_vocab(random_walks, progress_per=2)\n",
        "\n",
        "model.train(random_walks, total_examples = model.corpus_count, epochs=20, report_delay=1)"
      ]
    },
    {
      "cell_type": "code",
      "execution_count": null,
      "id": "eb139ea1-404b-43bd-9241-23f4a21b13f6",
      "metadata": {
        "id": "eb139ea1-404b-43bd-9241-23f4a21b13f6"
      },
      "outputs": [],
      "source": [
        "# Checking a result\n",
        "model.wv.most_similar('1403176')"
      ]
    },
    {
      "cell_type": "code",
      "execution_count": null,
      "id": "1a342929-02f7-4a28-bd79-6e56377cfd52",
      "metadata": {
        "id": "1a342929-02f7-4a28-bd79-6e56377cfd52"
      },
      "outputs": [],
      "source": [
        "# Get the predictions for each input\n",
        "\n",
        "inputs = x_test\n",
        "y_preds = []\n",
        "replacement_item = '0700090'\n",
        "\n",
        "for i in inputs:\n",
        "    try:\n",
        "        prediction = [item[0] for item in model.wv.most_similar(i, topn=1)]\n",
        "        y_preds.append(prediction)\n",
        "    except KeyError:\n",
        "        print(f\"{i} not in vocabulary, using {replacement_item} instead\")\n",
        "        prediction = [item[0] for item in model.wv.most_similar(replacement_item, topn=1)]\n",
        "        y_preds.append(prediction)\n",
        "\n",
        "print(y_preds)"
      ]
    },
    {
      "cell_type": "code",
      "source": [
        "# Convert y_test into binary values\n",
        "y_test_binary = [0] * len(all_item_ids)\n",
        "for item_id in y_test:\n",
        "    y_test_binary[all_item_ids.index(item_id)] = 1\n",
        "\n",
        "# Convert y_preds into binary values\n",
        "y_preds_binary = [0] * len(all_item_ids)\n",
        "for item_id in y_preds:\n",
        "    y_preds_binary[all_item_ids.index(item_id)] = 1\n",
        "\n",
        "confusion_mat_perc = confusion_matrix(y_test_binary, y_preds_binary, normalize='true')"
      ],
      "metadata": {
        "id": "LgUA2vPeBqci"
      },
      "id": "LgUA2vPeBqci",
      "execution_count": null,
      "outputs": []
    },
    {
      "cell_type": "code",
      "source": [
        "sns.heatmap(confusion_mat_perc, cmap='GnBu', annot=True, annot_kws={\"size\": 13}, vmin=0, vmax=100)\n",
        "plt.xlabel('Predicted values (1 = purchase, 0 = non-purchase')\n",
        "plt.ylabel('True values (1 = purchase, 0 = non-purchase)')\n",
        "plt.show()"
      ],
      "metadata": {
        "id": "poZuOG3WBz52"
      },
      "id": "poZuOG3WBz52",
      "execution_count": null,
      "outputs": []
    },
    {
      "cell_type": "code",
      "source": [
        "def find_successes(y_pred, y_true):\n",
        "  # y_pred: list of predicted recommendations\n",
        "  # y_true: set of true recommendations\n",
        "  # returns: list of successful recommendations (must be a subset of y_pred)\n",
        "  \n",
        "  successes = []\n",
        "  \n",
        "  # Iterate over the predicted recommendations\n",
        "  for pred in y_pred:\n",
        "    # If the predicted recommendation is also in the set of true recommendations, it is a success\n",
        "    if pred in y_true:\n",
        "      successes.append(pred)\n",
        "      \n",
        "  return successes\n",
        "\n",
        "# finding succesful recommendations\n",
        "successes = find_successes(y_preds, y_test)\n"
      ],
      "metadata": {
        "id": "ju2HtdYNDYcd"
      },
      "id": "ju2HtdYNDYcd",
      "execution_count": null,
      "outputs": []
    },
    {
      "cell_type": "code",
      "source": [
        "hit_ratio_deep = hit_ratio(y_preds, successes)"
      ],
      "metadata": {
        "id": "yL903K41Qyd-"
      },
      "id": "yL903K41Qyd-",
      "execution_count": null,
      "outputs": []
    },
    {
      "cell_type": "code",
      "source": [
        "print(hit_ratio_deep)"
      ],
      "metadata": {
        "id": "0AYpef8LA532"
      },
      "id": "0AYpef8LA532",
      "execution_count": null,
      "outputs": []
    },
    {
      "cell_type": "code",
      "source": [
        "# creating a plot\n",
        "plt.figure(figsize=(3, 3))\n",
        "plt.bar([''], [hit_ratio_deep], color='#003060')\n",
        "\n",
        "\n",
        "plt.xlabel('Hits across true labels', color='#986B23')\n",
        "plt.ylabel('Hit Ratio')\n",
        "plt.ylim(0, 1)\n",
        "\n",
        "plt.show()"
      ],
      "metadata": {
        "id": "1Z_yfJ1BBDhi"
      },
      "id": "1Z_yfJ1BBDhi",
      "execution_count": null,
      "outputs": []
    },
    {
      "cell_type": "code",
      "source": [
        "# finding succesful recommendations across top 50 popular products in test set\n",
        "successes = find_successes(y_preds, most_common_items)"
      ],
      "metadata": {
        "id": "yrKoJYhCBOLF"
      },
      "id": "yrKoJYhCBOLF",
      "execution_count": null,
      "outputs": []
    },
    {
      "cell_type": "code",
      "source": [
        "hit_ratio_pop_deep = hit_ratio(y_preds, successes)"
      ],
      "metadata": {
        "id": "ay-QpPdqRKPB"
      },
      "id": "ay-QpPdqRKPB",
      "execution_count": null,
      "outputs": []
    },
    {
      "cell_type": "code",
      "source": [
        "print(hit_ratio_pop_deep)"
      ],
      "metadata": {
        "id": "3KxxEQ2kBShx"
      },
      "id": "3KxxEQ2kBShx",
      "execution_count": null,
      "outputs": []
    },
    {
      "cell_type": "code",
      "source": [
        "# Creating a bar plot\n",
        "plt.figure(figsize=(3, 3))\n",
        "plt.bar([''], [hit_ratio_pop_deep], color='#003060')\n",
        "\n",
        "plt.xlabel('Hits across top 50 popular products', color='#986B23')\n",
        "plt.ylabel('Hit Ratio')\n",
        "plt.ylim(0, 1)\n",
        "\n",
        "plt.show()"
      ],
      "metadata": {
        "collapsed": true,
        "id": "BvmlK34QBTN1"
      },
      "id": "BvmlK34QBTN1",
      "execution_count": null,
      "outputs": []
    }
  ],
  "metadata": {
    "colab": {
      "provenance": []
    },
    "kernelspec": {
      "display_name": "Python 3",
      "language": "python",
      "name": "python3"
    },
    "language_info": {
      "codemirror_mode": {
        "name": "ipython",
        "version": 3
      },
      "file_extension": ".py",
      "mimetype": "text/x-python",
      "name": "python",
      "nbconvert_exporter": "python",
      "pygments_lexer": "ipython3",
      "version": "3.8.8"
    }
  },
  "nbformat": 4,
  "nbformat_minor": 5
}